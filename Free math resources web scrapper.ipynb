{
 "cells": [
  {
   "cell_type": "markdown",
   "id": "72abf16a",
   "metadata": {},
   "source": [
    "## Free math resources web scrapper\n"
   ]
  },
  {
   "cell_type": "markdown",
   "id": "261c7c89",
   "metadata": {},
   "source": [
    "#### Importing python libraries"
   ]
  },
  {
   "cell_type": "code",
   "execution_count": 31,
   "id": "b5a25463",
   "metadata": {},
   "outputs": [],
   "source": [
    "import pandas as pd\n",
    "from serpapi import GoogleSearch"
   ]
  },
  {
   "cell_type": "markdown",
   "id": "8d5a804c",
   "metadata": {},
   "source": [
    "### Set up SerpAPI Search parameters"
   ]
  },
  {
   "cell_type": "code",
   "execution_count": 32,
   "id": "768afb67",
   "metadata": {},
   "outputs": [],
   "source": [
    "API_KEY = \"575f31ad03fa98197601605795e509a3ff6c39479a972a65f87e9ce2b1643dee\"\n",
    "\n",
    "# Define search parameters\n",
    "params = {\n",
    "    \"engine\": \"google\",\n",
    "    \"q\": \"free math worksheets OR interactive games OR manipulatives site:.org\",# search query \n",
    "    \"api_key\": API_KEY,\n",
    "    \"num\": 10  # Fetch 10 results per page\n",
    "}"
   ]
  },
  {
   "cell_type": "markdown",
   "id": "c5e5ac81",
   "metadata": {},
   "source": [
    "###  Create data storage for categories"
   ]
  },
  {
   "cell_type": "code",
   "execution_count": 33,
   "id": "154c0d94",
   "metadata": {},
   "outputs": [],
   "source": [
    "# Createing an empty dictionary with three categories as worksheets, games and manupulatives\n",
    "data = {\"Worksheets\": [], \"Games\": [], \"Manipulatives\": []}"
   ]
  },
  {
   "cell_type": "markdown",
   "id": "04e9b3c7",
   "metadata": {},
   "source": [
    "###  Loop through Search results, extract and categorise"
   ]
  },
  {
   "cell_type": "code",
   "execution_count": 34,
   "id": "122c5f6d",
   "metadata": {},
   "outputs": [],
   "source": [
    "# Loop to fetch 3 pages (30 results)\n",
    "for page in range(3):\n",
    "    params[\"start\"] = page * 10  #start, this paginates results 0,10,20\n",
    "    search = GoogleSearch(params) \n",
    "    results = search.get_dict() # Fetches google search results in a dictionary format\n",
    "\n",
    "# Extract and categorise    \n",
    "    if \"organic_results\" in results: # checks if results conatin a key called organic results\n",
    "        for result in results[\"organic_results\"]: \n",
    "            title = result[\"title\"]\n",
    "            link = result[\"link\"]\n",
    "            \n",
    "            # Assign each link to categorized based on title or link\n",
    "            if \"worksheet\" in title.lower() or \"pdf\" in link:\n",
    "                data[\"Worksheets\"].append({\"Title\": title, \"Link\": link}) # adding title an dlink to the end of list\n",
    "            elif \"game\" in title.lower() or \"interactive\" in title.lower():\n",
    "                data[\"Games\"].append({\"Title\": title, \"Link\": link})\n",
    "            elif \"manipulative\" in title.lower() or \"tool\" in title.lower():\n",
    "                data[\"Manipulatives\"].append({\"Title\": title, \"Link\": link})\n",
    "            else:\n",
    "                data[\"Worksheets\"].append({\"Title\": title, \"Link\": link})  # Default category"
   ]
  },
  {
   "cell_type": "markdown",
   "id": "b4f0dd11",
   "metadata": {},
   "source": [
    "###  Save data to an excel file"
   ]
  },
  {
   "cell_type": "code",
   "execution_count": 37,
   "id": "1504b970",
   "metadata": {},
   "outputs": [
    {
     "name": "stdout",
     "output_type": "stream",
     "text": [
      "✅ Categorized results saved to 'categorized_math_resources1.xlsx'!\n"
     ]
    }
   ],
   "source": [
    "# Save data into separate sheets in Excel\n",
    "with pd.ExcelWriter(\"categorized_math_resources1.xlsx\", engine=\"openpyxl\") as writer:\n",
    "    for category, items in data.items():\n",
    "        df = pd.DataFrame(items)\n",
    "        df.to_excel(writer, sheet_name=category, index=False)\n",
    "\n",
    "print(\"✅ Categorized results saved to 'categorized_math_resources1.xlsx'!\")"
   ]
  },
  {
   "cell_type": "code",
   "execution_count": null,
   "id": "911412cb",
   "metadata": {},
   "outputs": [],
   "source": []
  }
 ],
 "metadata": {
  "kernelspec": {
   "display_name": "Python 3 (ipykernel)",
   "language": "python",
   "name": "python3"
  },
  "language_info": {
   "codemirror_mode": {
    "name": "ipython",
    "version": 3
   },
   "file_extension": ".py",
   "mimetype": "text/x-python",
   "name": "python",
   "nbconvert_exporter": "python",
   "pygments_lexer": "ipython3",
   "version": "3.9.13"
  }
 },
 "nbformat": 4,
 "nbformat_minor": 5
}
